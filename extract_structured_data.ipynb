{
 "cells": [
  {
   "cell_type": "markdown",
   "id": "38ff691d-8b47-4625-b5e7-9f873346a6e2",
   "metadata": {},
   "source": [
    "# Extract Structured Data from Text\n",
    "\n",
    "In this notebook we'll go through a structured data extraction example, using the Gemini API to extract the lists of characters, relationships, things, and places from a story.\n",
    "\n",
    "The code in this notebook is adapted from Google's [Gemini tutorial](https://github.com/google/generative-ai-docs/blob/main/site/en/gemini-api/tutorials/extract_structured_data.ipynb).\n",
    "\n",
    "\n",
    "## Setup\n",
    "\n",
    "Before we begin, please make sure you have setup the `.env` file in the project \n",
    "directory as described in [`README.md`](README.md).\n",
    "\n",
    "Next, we will use \n",
    "[`python-dotenv`](https://github.com/theskumar/python-dotenv)\n",
    "to load in the necessary environment variables for this notebook:"
   ]
  },
  {
   "cell_type": "code",
   "execution_count": 1,
   "id": "2a3ceb0b-748f-448a-bd6b-9b0ecd34ccff",
   "metadata": {},
   "outputs": [],
   "source": [
    "import os\n",
    "from dotenv import load_dotenv\n",
    "\n",
    "_ = load_dotenv()\n",
    "\n",
    "assert os.environ.get(\"GOOGLE_API_KEY\")"
   ]
  },
  {
   "cell_type": "markdown",
   "id": "68524225-8552-4f38-a1a3-fe1a3775b5ea",
   "metadata": {},
   "source": [
    "You can pass the API key to the Google AI Python SDK in two ways:\n",
    "* Put the key in the `GOOGLE_API_KEY` environment variable (the SDK will automatically pick it up from there).\n",
    "* Pass the key to `genai.configure(api_key=...)`\n"
   ]
  },
  {
   "cell_type": "code",
   "execution_count": 2,
   "id": "70da1bc4-847d-4e4d-ae42-50d6baa48190",
   "metadata": {},
   "outputs": [],
   "source": [
    "import google.generativeai as genai\n",
    "\n",
    "genai.configure(\n",
    "    api_key=os.environ.get(\n",
    "        \"GOOGLE_API_KEY\"\n",
    "    )\n",
    ")"
   ]
  },
  {
   "cell_type": "markdown",
   "id": "edee3463-aa09-460d-a88c-0e1bf5e53f32",
   "metadata": {},
   "source": [
    "## The example task\n",
    "\n",
    "In this notebook we will extract entities from a story written by **Gemini 1.5 Pro**:"
   ]
  },
  {
   "cell_type": "code",
   "execution_count": 3,
   "id": "080ee02d-1367-4ce8-ba0a-91e5ca04cf6b",
   "metadata": {
    "scrolled": true
   },
   "outputs": [
    {
     "data": {
      "text/markdown": [
       "In the quaint town of Willow Creek, nestled amidst rolling hills and whispering willows, resided a young girl named Anya. As she stepped out of the creaky wooden door of her modest cottage, her heart skipped a beat with excitement and anticipation. Today was her first day of school, and she couldn't wait to show off her prized possession - a magical backpack.\n",
       "\n",
       "Handed down to her from her grandmother, the backpack was no ordinary satchel. Its soft, emerald-green fabric shimmered with an ethereal glow, and its leather straps held secrets that only Anya knew. Within its capacious interior lay an enchanted world, filled with wonders that would ignite her imagination and change her life forever.\n",
       "\n",
       "Anya's parents, kind-hearted Elise and wise-bearded Edward, bid her farewell with warm embraces. \"Remember, my dear,\" whispered her mother, \"use your magic wisely and for good.\" Her father added, \"Always seek knowledge, and let the backpack be your trusted companion.\"\n",
       "\n",
       "With a skip in her step, Anya set off towards the town's only schoolhouse. On her way, she passed her best friend, Samuel, a curious and adventurous boy with a mischievous grin. \"Hey, Anya,\" he called out. \"Can I see your backpack?\"\n",
       "\n",
       "Anya hesitated for a moment before unzipping the flap and revealing its contents. Samuel's eyes widened in amazement as he peered inside. There, nestled amidst pencils and notebooks, were a shimmering sword, a book of ancient spells, a tiny compass that always pointed north, and a magical key that could open any lock.\n",
       "\n",
       "Together, they marveled at the backpack's wonders, promising to keep its secrets safe. As they approached the schoolhouse, Anya noticed a group of older children huddled together, their faces etched with fear. Curiosity getting the better of her, she cautiously approached.\n",
       "\n",
       "\"What's wrong?\" she asked.\n",
       "\n",
       "A tall, lanky boy stepped forward. \"There's a monster in the forest,\" he stammered. \"It's been terrorizing the town, attacking animals and even people.\"\n",
       "\n",
       "Anya's heart sank. The town of Willow Creek was small and peaceful, and the thought of a monster brought a shiver down her spine. She knew she had to do something to protect her family and friends.\n",
       "\n",
       "Without a moment's hesitation, Anya opened her backpack and retrieved the shimmering sword. With a determined gleam in her eye, she turned to her terrified peers. \"Don't worry,\" she said, her voice steady. \"I'll take care of it.\"\n",
       "\n",
       "With Samuel close behind her, Anya ventured into the shadowy depths of the forest. The trees seemed to whisper secrets as she passed, and the undergrowth rustled with unseen creatures. As they walked deeper into the forest, the air grew heavy and the ground beneath their feet trembled.\n",
       "\n",
       "Suddenly, they came to a clearing, and there before their eyes was the monster - a massive beast with sharp teeth, glowing red eyes, and claws that could crush a human with ease. The creature roared, a thunderous sound that shook the forest to its core.\n",
       "\n",
       "Fear surged through Anya, but she refused to let it consume her. She drew the sword from its sheath and charged towards the monster. The blade shimmered in the sunlight, and as it struck the beast's hide, a blinding light erupted, enveloping everything in its radiance.\n",
       "\n",
       "When the light faded, the monster was gone, and in its place was a pile of shattered crystals. Anya had defeated the creature with the magic of her backpack, proving that even the smallest of objects could hold the greatest of powers.\n",
       "\n",
       "As she and Samuel returned to the town, they were greeted as heroes. The people of Willow Creek rejoiced, and the legend of Anya, the girl with the magic backpack, was passed down through generations. And so, Anya continued her adventures, using the backpack's wonders to make the world a better place, one magical step at a time."
      ],
      "text/plain": [
       "<IPython.core.display.Markdown object>"
      ]
     },
     "execution_count": 3,
     "metadata": {},
     "output_type": "execute_result"
    }
   ],
   "source": [
    "from IPython.display import Markdown\n",
    "\n",
    "story = \"\"\"In the quaint town of Willow Creek, nestled amidst rolling hills and whispering willows, resided a young girl named Anya. As she stepped out of the creaky wooden door of her modest cottage, her heart skipped a beat with excitement and anticipation. Today was her first day of school, and she couldn't wait to show off her prized possession - a magical backpack.\\n\\nHanded down to her from her grandmother, the backpack was no ordinary satchel. Its soft, emerald-green fabric shimmered with an ethereal glow, and its leather straps held secrets that only Anya knew. Within its capacious interior lay an enchanted world, filled with wonders that would ignite her imagination and change her life forever.\\n\\nAnya's parents, kind-hearted Elise and wise-bearded Edward, bid her farewell with warm embraces. \"Remember, my dear,\" whispered her mother, \"use your magic wisely and for good.\" Her father added, \"Always seek knowledge, and let the backpack be your trusted companion.\"\\n\\nWith a skip in her step, Anya set off towards the town's only schoolhouse. On her way, she passed her best friend, Samuel, a curious and adventurous boy with a mischievous grin. \"Hey, Anya,\" he called out. \"Can I see your backpack?\"\\n\\nAnya hesitated for a moment before unzipping the flap and revealing its contents. Samuel's eyes widened in amazement as he peered inside. There, nestled amidst pencils and notebooks, were a shimmering sword, a book of ancient spells, a tiny compass that always pointed north, and a magical key that could open any lock.\\n\\nTogether, they marveled at the backpack's wonders, promising to keep its secrets safe. As they approached the schoolhouse, Anya noticed a group of older children huddled together, their faces etched with fear. Curiosity getting the better of her, she cautiously approached.\\n\\n\"What's wrong?\" she asked.\\n\\nA tall, lanky boy stepped forward. \"There's a monster in the forest,\" he stammered. \"It's been terrorizing the town, attacking animals and even people.\"\\n\\nAnya's heart sank. The town of Willow Creek was small and peaceful, and the thought of a monster brought a shiver down her spine. She knew she had to do something to protect her family and friends.\\n\\nWithout a moment's hesitation, Anya opened her backpack and retrieved the shimmering sword. With a determined gleam in her eye, she turned to her terrified peers. \"Don't worry,\" she said, her voice steady. \"I'll take care of it.\"\\n\\nWith Samuel close behind her, Anya ventured into the shadowy depths of the forest. The trees seemed to whisper secrets as she passed, and the undergrowth rustled with unseen creatures. As they walked deeper into the forest, the air grew heavy and the ground beneath their feet trembled.\\n\\nSuddenly, they came to a clearing, and there before their eyes was the monster - a massive beast with sharp teeth, glowing red eyes, and claws that could crush a human with ease. The creature roared, a thunderous sound that shook the forest to its core.\\n\\nFear surged through Anya, but she refused to let it consume her. She drew the sword from its sheath and charged towards the monster. The blade shimmered in the sunlight, and as it struck the beast's hide, a blinding light erupted, enveloping everything in its radiance.\\n\\nWhen the light faded, the monster was gone, and in its place was a pile of shattered crystals. Anya had defeated the creature with the magic of her backpack, proving that even the smallest of objects could hold the greatest of powers.\\n\\nAs she and Samuel returned to the town, they were greeted as heroes. The people of Willow Creek rejoiced, and the legend of Anya, the girl with the magic backpack, was passed down through generations. And so, Anya continued her adventures, using the backpack's wonders to make the world a better place, one magical step at a time.\"\"\"\n",
    "\n",
    "Markdown(story)"
   ]
  },
  {
   "cell_type": "markdown",
   "id": "5d747881-8e84-4d88-b97c-4aa27ccbd0c2",
   "metadata": {},
   "source": [
    "The code used to generate the short story is shown below. Feel free to generate your own short story.\n",
    "\n",
    "```python\n",
    "from google.api_core import retry\n",
    "\n",
    "\n",
    "model = genai.GenerativeModel(\n",
    "    model_name='models/gemini-1.5-pro'\n",
    ")\n",
    "\n",
    "response = model.generate_content(\n",
    "    \"\"\"\n",
    "    Write a long story about a girl with magic backpack, \n",
    "    her family, and at least one other character. \n",
    "    Make sure everyone has names. Don't forget to\n",
    "    describe the contents of the backpack, and where \n",
    "    everyone and everything starts and ends up.\n",
    "    \"\"\", \n",
    "    request_options={\n",
    "        'retry': retry.Retry()\n",
    "    }\n",
    ")\n",
    "      \n",
    "story = response.text\n",
    "```\n",
    "\n",
    "\n",
    "The Gemini API provides an endpoint for counting the number of tokens in a request [`GenerativeModel.count_tokens`](https://ai.google.dev/api/python/google/generativeai/GenerativeModel#count_tokens). Let's count the number of tokens in this short story:"
   ]
  },
  {
   "cell_type": "code",
   "execution_count": 4,
   "id": "af7ce423-a55d-4407-aa57-5fb534c5519e",
   "metadata": {},
   "outputs": [
    {
     "data": {
      "text/plain": [
       "total_tokens: 818"
      ]
     },
     "execution_count": 4,
     "metadata": {},
     "output_type": "execute_result"
    }
   ],
   "source": [
    "MODEL_NAME = 'models/gemini-1.5-flash-latest'\n",
    "\n",
    "model = genai.GenerativeModel(MODEL_NAME)\n",
    "model.count_tokens(story)"
   ]
  },
  {
   "cell_type": "markdown",
   "id": "30afa616-0abb-4396-a7de-7360138bf72b",
   "metadata": {},
   "source": [
    "In this example you can see the `gemini-1.5-flash` model has about 1 million tokens context window. If you need more, `gemini-1.5-pro` has an even bigger 2 million tokens context window."
   ]
  },
  {
   "cell_type": "code",
   "execution_count": 5,
   "id": "92af4f86-7b0f-418d-8da7-8596e841108d",
   "metadata": {},
   "outputs": [
    {
     "name": "stdout",
     "output_type": "stream",
     "text": [
      "models/gemini-1.5-flash-latest - input limit: 1048576, output limit: 8192\n"
     ]
    }
   ],
   "source": [
    "model_info = genai.get_model(MODEL_NAME)\n",
    "\n",
    "print(\n",
    "    f'{MODEL_NAME} - input limit: {model_info.input_token_limit}, '\n",
    "    f'output limit: {model_info.output_token_limit}'\n",
    ")"
   ]
  },
  {
   "cell_type": "markdown",
   "id": "21ae3d5d-7a75-4aa8-8078-1fe1e0a94056",
   "metadata": {},
   "source": [
    "## Use function calling to extract structured data\n",
    "\n",
    "With function calling your function and its parameters are described to the API as a `genai.protos.FunctionDeclaration`. In basic cases the SDK can build the `FunctionDeclaration` from the function and its annotations. The SDK doesn't currently handle the description of nested `OBJECT` (`dict`) parameters. So you'll need to define them explicitly, for now.\n",
    "\n",
    "### Define the schema\n",
    "\n",
    "Define a class for each of the entity we are trying to extract from the text. The model uses the class name, docstring, attributes, and attribute type annotations to decide what to extract from the text. Therefore, it is important to be as clear and detailed as possible when defining the classes."
   ]
  },
  {
   "cell_type": "code",
   "execution_count": 6,
   "id": "3718214c-61e7-4513-b13d-60403f6b9cac",
   "metadata": {},
   "outputs": [],
   "source": [
    "from typing_extensions import TypedDict\n",
    "\n",
    "\n",
    "class Character(TypedDict):\n",
    "    \"\"\"\n",
    "    Information about a character extracted from the text.\n",
    "    A character can be a person, animal or creature.\n",
    "\n",
    "    Attributes:\n",
    "        name: Name of the character.\n",
    "        description: Short summary describing the character.\n",
    "        place_name: Name of the place where the character \n",
    "            is first encountered.\n",
    "    \"\"\"\n",
    "    name: str\n",
    "    description: str\n",
    "    place_name: str\n",
    "    \n",
    "\n",
    "class Place(TypedDict):\n",
    "    \"\"\"\n",
    "    Information about a place extracted from the text.\n",
    "    A place is where the main character lives in \n",
    "    or has visited.\n",
    "\n",
    "    Attributes:\n",
    "        name: Name of the place.\n",
    "        description: Short summary describing the place.\n",
    "    \"\"\"\n",
    "    \n",
    "    name: str\n",
    "    description: str\n",
    "\n",
    "\n",
    "class Thing(TypedDict):\n",
    "    \"\"\"\n",
    "    Information about an inanimate object or \n",
    "    thing extracted from the text. The thing\n",
    "    must belong to at least one character from \n",
    "    the text.\n",
    "\n",
    "    Attributes:\n",
    "        name: Name of the object or thing.\n",
    "        description: Short summary describing the thing.\n",
    "        owner_name: Name of character that owns the thing.\n",
    "    \"\"\"\n",
    "    \n",
    "    name:str\n",
    "    description:str\n",
    "    owner_name:str\n",
    "\n",
    "\n",
    "class Relationship(TypedDict):\n",
    "    \"\"\"\n",
    "    Information about a relationship between \n",
    "    two characters extracted from the text.\n",
    "\n",
    "    Attributes:\n",
    "        char_1_name: Name of first character in the relationship.\n",
    "        char_2_name: Name of second character in the relationship.\n",
    "        relationship: Short summary describing the relationship \n",
    "            between the two characters, \n",
    "            e.g., `Alice` is the daughter of `Tom`, \n",
    "            `Harold` and `Kumar` are best friends\n",
    "    \"\"\"\n",
    "    \n",
    "    char_1_name: str\n",
    "    char_2_name: str\n",
    "    relationship: str"
   ]
  },
  {
   "cell_type": "markdown",
   "id": "600137d5-c55f-4dfe-9ea0-e7749c281034",
   "metadata": {},
   "source": [
    "When you create a function to be used in a function call by the model, you should include as much detail as possible in the function and parameter descriptions. The generative model uses this information to determine which function to select and how to provide values for the parameters in the function call. \n",
    "> Take a look at \n",
    "[Intro to Function Calling with Gemini API](https://ai.google.dev/gemini-api/docs/function-calling)\n",
    "to see the best practices for function calling.\n",
    "\n",
    "Now build the `FunctionDeclaration`:"
   ]
  },
  {
   "cell_type": "code",
   "execution_count": 7,
   "id": "ddcf369f-ca8e-4dd3-a2ce-d9ac97b06751",
   "metadata": {},
   "outputs": [],
   "source": [
    "def add_to_database(\n",
    "    people: list[Character],\n",
    "    places: list[Place],\n",
    "    things: list[Thing],\n",
    "    relationships: list[Relationship]\n",
    ") -> bool:\n",
    "    \"\"\"\n",
    "    Add the extracted entities from the text to the database.\n",
    "\n",
    "    Args:\n",
    "      people: List of zero or more characters found in the text.\n",
    "      places: List of zero or more places found in the text.\n",
    "      things: List of zero or more things found in the text.\n",
    "      relationships: List of zero or more relationships between \n",
    "          two characters found in the text.\n",
    "\n",
    "    Returns:\n",
    "        `True` if entities are successfully added;\n",
    "        `False` otherwise.\n",
    "    \"\"\"\n",
    "    return True"
   ]
  },
  {
   "cell_type": "markdown",
   "id": "f8acf281-f51c-4c76-8f86-c401b784fe20",
   "metadata": {},
   "source": [
    "### Call the API\n",
    "\n",
    "Now you can pass this `FunctionDeclaration` to the `tools` argument of the `genai.GenerativeModel` constructor (the constructor would also accept an equivalent JSON representation of the function declaration).\n",
    "\n",
    "> See also: [Function calling tutorial](https://ai.google.dev/gemini-api/docs/function-calling/tutorial?lang=python)"
   ]
  },
  {
   "cell_type": "code",
   "execution_count": 11,
   "id": "31a788fc-eb29-4750-8ff0-5b538b90f098",
   "metadata": {},
   "outputs": [],
   "source": [
    "model = genai.GenerativeModel(\n",
    "    model_name=MODEL_NAME,\n",
    "    tools = [add_to_database]\n",
    ")"
   ]
  },
  {
   "cell_type": "markdown",
   "id": "c50c63f1-2bfc-4b33-affc-13aec0290aae",
   "metadata": {},
   "source": [
    "Let's peek inside the model's `_tools` attribute, we can see how it describes the function you just passed to the model:"
   ]
  },
  {
   "cell_type": "code",
   "execution_count": 19,
   "id": "a8ef38ef-7847-4632-8b2b-5b7919eaec14",
   "metadata": {},
   "outputs": [
    {
     "data": {
      "text/plain": [
       "[function_declarations {\n",
       "   name: \"add_to_database\"\n",
       "   description: \"\\n    Add the extracted entities from the text to the database.\\n\\n    Args:\\n      people: List of zero or more characters found in the text.\\n      places: List of zero or more places found in the text.\\n      things: List of zero or more things found in the text.\\n      relationships: List of zero or more relationships between \\n          two characters found in the text.\\n\\n    Returns:\\n        `True` if entities are successfully added;\\n        `False` otherwise.\\n    \"\n",
       "   parameters {\n",
       "     type_: OBJECT\n",
       "     properties {\n",
       "       key: \"people\"\n",
       "       value {\n",
       "         type_: ARRAY\n",
       "         items {\n",
       "           type_: OBJECT\n",
       "           description: \"Information about a character extracted from the text.\\nA character can be a person, animal or creature.\\n\\nAttributes:\\n    name: Name of the character.\\n    description: Short summary describing the character.\\n    place_name: Name of the place where the character \\n        is first encountered.\"\n",
       "           properties {\n",
       "             key: \"description\"\n",
       "             value {\n",
       "               type_: STRING\n",
       "             }\n",
       "           }\n",
       "           properties {\n",
       "             key: \"name\"\n",
       "             value {\n",
       "               type_: STRING\n",
       "             }\n",
       "           }\n",
       "           properties {\n",
       "             key: \"place_name\"\n",
       "             value {\n",
       "               type_: STRING\n",
       "             }\n",
       "           }\n",
       "         }\n",
       "       }\n",
       "     }\n",
       "     properties {\n",
       "       key: \"places\"\n",
       "       value {\n",
       "         type_: ARRAY\n",
       "         items {\n",
       "           type_: OBJECT\n",
       "           description: \"Information about a place extracted from the text.\\nA place is where the main character lives in \\nor has visited.\\n\\nAttributes:\\n    name: Name of the place.\\n    description: Short summary describing the place.\"\n",
       "           properties {\n",
       "             key: \"description\"\n",
       "             value {\n",
       "               type_: STRING\n",
       "             }\n",
       "           }\n",
       "           properties {\n",
       "             key: \"name\"\n",
       "             value {\n",
       "               type_: STRING\n",
       "             }\n",
       "           }\n",
       "         }\n",
       "       }\n",
       "     }\n",
       "     properties {\n",
       "       key: \"relationships\"\n",
       "       value {\n",
       "         type_: ARRAY\n",
       "         items {\n",
       "           type_: OBJECT\n",
       "           description: \"Information about a relationship between \\ntwo characters extracted from the text.\\n\\nAttributes:\\n    char_1_name: Name of first character in the relationship.\\n    char_2_name: Name of second character in the relationship.\\n    relationship: Short summary describing the relationship \\n        between the two characters, \\n        e.g., `Alice` is the daughter of `Tom`, \\n        `Harold` and `Kumar` are best friends\"\n",
       "           properties {\n",
       "             key: \"char_1_name\"\n",
       "             value {\n",
       "               type_: STRING\n",
       "             }\n",
       "           }\n",
       "           properties {\n",
       "             key: \"char_2_name\"\n",
       "             value {\n",
       "               type_: STRING\n",
       "             }\n",
       "           }\n",
       "           properties {\n",
       "             key: \"relationship\"\n",
       "             value {\n",
       "               type_: STRING\n",
       "             }\n",
       "           }\n",
       "         }\n",
       "       }\n",
       "     }\n",
       "     properties {\n",
       "       key: \"things\"\n",
       "       value {\n",
       "         type_: ARRAY\n",
       "         items {\n",
       "           type_: OBJECT\n",
       "           description: \"Information about an inanimate object or \\nthing extracted from the text. The thing\\nmust belong to at least one character from \\nthe text.\\n\\nAttributes:\\n    name: Name of the object or thing.\\n    description: Short summary describing the thing.\\n    owner_name: Name of character that owns the thing.\"\n",
       "           properties {\n",
       "             key: \"description\"\n",
       "             value {\n",
       "               type_: STRING\n",
       "             }\n",
       "           }\n",
       "           properties {\n",
       "             key: \"name\"\n",
       "             value {\n",
       "               type_: STRING\n",
       "             }\n",
       "           }\n",
       "           properties {\n",
       "             key: \"owner_name\"\n",
       "             value {\n",
       "               type_: STRING\n",
       "             }\n",
       "           }\n",
       "         }\n",
       "       }\n",
       "     }\n",
       "     required: \"people\"\n",
       "     required: \"places\"\n",
       "     required: \"things\"\n",
       "     required: \"relationships\"\n",
       "   }\n",
       " }]"
      ]
     },
     "execution_count": 19,
     "metadata": {},
     "output_type": "execute_result"
    }
   ],
   "source": [
    "model._tools.to_proto()"
   ]
  },
  {
   "cell_type": "markdown",
   "id": "b98c1344-429a-4014-9b87-db8575965784",
   "metadata": {},
   "source": [
    "This returns the list of `genai.protos.Tool` objects that would be sent to the API. These are Google protobuf classes. Each `genai.protos.Tool` (1 in this case) contains a list of `genai.protos.FunctionDeclarations`, which describe a function and its arguments.\n",
    "\n",
    "Let's define the prompt to feed into the model:"
   ]
  },
  {
   "cell_type": "code",
   "execution_count": 20,
   "id": "85e677f5-bb6d-4062-96cd-5e0ffecd25c7",
   "metadata": {},
   "outputs": [],
   "source": [
    "prompt = f\"\"\"\\\n",
    "Given the following story:\n",
    "\n",
    "{story}\n",
    "\n",
    "---\n",
    "\n",
    "Please add the characters, places, things, and \n",
    "relationships from this story to the database:\n",
    "\"\"\""
   ]
  },
  {
   "cell_type": "markdown",
   "id": "078be515-2738-4df2-b05f-9bc7c35cd47c",
   "metadata": {},
   "source": [
    "Each time you call the API the SDK will send the tools along with your prompt, and the model should call that function you defined.\n",
    "\n",
    "For the temperature parameter, use `0` or another low value. This instructs the model to generate more confident results and reduces hallucinations."
   ]
  },
  {
   "cell_type": "code",
   "execution_count": 21,
   "id": "f67cab14-43eb-4ede-a3c1-b1bf0c073dbc",
   "metadata": {},
   "outputs": [],
   "source": [
    "result = model.generate_content(\n",
    "    prompt,\n",
    "    generation_config=genai.types.GenerationConfig(\n",
    "        temperature=0.0\n",
    "    )\n",
    ")"
   ]
  },
  {
   "cell_type": "markdown",
   "id": "3197c45e-dd71-440d-8c2e-9f24c835c73a",
   "metadata": {},
   "source": [
    "Now there is no text to parse. The result _is_ a datastructure."
   ]
  },
  {
   "cell_type": "code",
   "execution_count": 31,
   "id": "401ef73f-aaec-4b2a-a282-0773b9ba609d",
   "metadata": {},
   "outputs": [
    {
     "data": {
      "text/plain": [
       "False"
      ]
     },
     "execution_count": 31,
     "metadata": {},
     "output_type": "execute_result"
    }
   ],
   "source": [
    "'text' in result.candidates[0].content.parts[0]"
   ]
  },
  {
   "cell_type": "code",
   "execution_count": 32,
   "id": "6d9a3ed4-49c7-457e-9f75-e894d1a80ff1",
   "metadata": {},
   "outputs": [
    {
     "data": {
      "text/plain": [
       "True"
      ]
     },
     "execution_count": 32,
     "metadata": {},
     "output_type": "execute_result"
    }
   ],
   "source": [
    "'function_call' in result.candidates[0].content.parts[0]"
   ]
  },
  {
   "cell_type": "code",
   "execution_count": 29,
   "id": "4ac5bbd4-f3a4-46cb-b59c-8b2bd837ec3a",
   "metadata": {},
   "outputs": [
    {
     "name": "stdout",
     "output_type": "stream",
     "text": [
      "<class 'google.ai.generativelanguage_v1beta.types.content.FunctionCall'>\n"
     ]
    }
   ],
   "source": [
    "function_call = result.candidates[0].content.parts[0].function_call\n",
    "print(type(function_call))"
   ]
  },
  {
   "cell_type": "markdown",
   "id": "1acf7ae9-e133-4899-959f-5d467cd6ecc6",
   "metadata": {},
   "source": [
    "The `genai.protos.FunctionCall` class is based on Google Protocol Buffers, convert it to a more familiar JSON compatible object:"
   ]
  },
  {
   "cell_type": "code",
   "execution_count": 30,
   "id": "554582e8-8349-4ff4-a39c-1f15ff59ea26",
   "metadata": {},
   "outputs": [
    {
     "name": "stdout",
     "output_type": "stream",
     "text": [
      "{\n",
      "  \"name\": \"add_to_database\",\n",
      "  \"args\": {\n",
      "    \"relationships\": [\n",
      "      {\n",
      "        \"relationship\": \"Anya is the daughter of Elise\",\n",
      "        \"char_1_name\": \"Anya\",\n",
      "        \"char_2_name\": \"Elise\"\n",
      "      },\n",
      "      {\n",
      "        \"char_2_name\": \"Edward\",\n",
      "        \"relationship\": \"Anya is the daughter of Edward\",\n",
      "        \"char_1_name\": \"Anya\"\n",
      "      },\n",
      "      {\n",
      "        \"char_2_name\": \"Samuel\",\n",
      "        \"relationship\": \"Anya is best friends with Samuel\",\n",
      "        \"char_1_name\": \"Anya\"\n",
      "      }\n",
      "    ],\n",
      "    \"places\": [\n",
      "      {\n",
      "        \"name\": \"Willow Creek\",\n",
      "        \"description\": \"A quaint town nestled amidst rolling hills and whispering willows\"\n",
      "      },\n",
      "      {\n",
      "        \"description\": \"A shadowy forest where the monster lives\",\n",
      "        \"name\": \"Forest\"\n",
      "      }\n",
      "    ],\n",
      "    \"things\": [\n",
      "      {\n",
      "        \"description\": \"A backpack with magical powers\",\n",
      "        \"name\": \"Magical Backpack\",\n",
      "        \"owner_name\": \"Anya\"\n",
      "      },\n",
      "      {\n",
      "        \"description\": \"A shimmering sword\",\n",
      "        \"owner_name\": \"Anya\",\n",
      "        \"name\": \"Sword\"\n",
      "      },\n",
      "      {\n",
      "        \"description\": \"A book containing ancient spells\",\n",
      "        \"owner_name\": \"Anya\",\n",
      "        \"name\": \"Book of Ancient Spells\"\n",
      "      },\n",
      "      {\n",
      "        \"description\": \"A tiny compass that always points north\",\n",
      "        \"owner_name\": \"Anya\",\n",
      "        \"name\": \"Compass\"\n",
      "      },\n",
      "      {\n",
      "        \"name\": \"Magical Key\",\n",
      "        \"description\": \"A magical key that can open any lock\",\n",
      "        \"owner_name\": \"Anya\"\n",
      "      }\n",
      "    ],\n",
      "    \"people\": [\n",
      "      {\n",
      "        \"place_name\": \"Willow Creek\",\n",
      "        \"name\": \"Anya\",\n",
      "        \"description\": \"A young girl who owns a magical backpack\"\n",
      "      },\n",
      "      {\n",
      "        \"description\": \"Anya\\\\'s mother\",\n",
      "        \"place_name\": \"Willow Creek\",\n",
      "        \"name\": \"Elise\"\n",
      "      },\n",
      "      {\n",
      "        \"description\": \"Anya\\\\'s father\",\n",
      "        \"name\": \"Edward\",\n",
      "        \"place_name\": \"Willow Creek\"\n",
      "      },\n",
      "      {\n",
      "        \"name\": \"Samuel\",\n",
      "        \"description\": \"Anya\\\\'s best friend\",\n",
      "        \"place_name\": \"Willow Creek\"\n",
      "      }\n",
      "    ]\n",
      "  }\n",
      "}\n"
     ]
    }
   ],
   "source": [
    "import json\n",
    "\n",
    "print(\n",
    "    json.dumps(\n",
    "        type(function_call).to_dict(function_call), \n",
    "        indent=2\n",
    "    )\n",
    ")"
   ]
  },
  {
   "cell_type": "markdown",
   "id": "83a1a893-d0d1-4c96-915d-5a53255e3854",
   "metadata": {},
   "source": [
    "## Conclusion\n",
    "\n",
    "While the API can handle structured data extraction problems with pure text input and text output, using function calling is likely more reliable since it lets us define a strict schema, and eliminates a potentially error-prone parsing step."
   ]
  },
  {
   "cell_type": "code",
   "execution_count": null,
   "id": "3099bcca-9dff-4094-97ac-2355c91b5bd6",
   "metadata": {},
   "outputs": [],
   "source": []
  }
 ],
 "metadata": {
  "kernelspec": {
   "display_name": "Python 3 (ipykernel)",
   "language": "python",
   "name": "python3"
  },
  "language_info": {
   "codemirror_mode": {
    "name": "ipython",
    "version": 3
   },
   "file_extension": ".py",
   "mimetype": "text/x-python",
   "name": "python",
   "nbconvert_exporter": "python",
   "pygments_lexer": "ipython3",
   "version": "3.11.9"
  }
 },
 "nbformat": 4,
 "nbformat_minor": 5
}
